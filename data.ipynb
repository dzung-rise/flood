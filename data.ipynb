{
 "cells": [
  {
   "cell_type": "code",
   "execution_count": 2,
   "id": "7bd4fabf",
   "metadata": {},
   "outputs": [],
   "source": [
    "import polars as pl\n",
    "import os\n",
    "\n",
    "data_path = \"./rise_samples\"\n",
    "\n",
    "contracts_file = os.path.join(data_path, \"ethereum_contracts_samples__L__v1_0_0.parquet\")\n",
    "slots_file = os.path.join(data_path, \"ethereum_slots_samples__L__v1_0_0.parquet\")\n",
    "transactions_file = os.path.join(data_path, \"ethereum_transactions_samples__L__v1_0_0.parquet\")"
   ]
  },
  {
   "cell_type": "markdown",
   "id": "ddcff06b",
   "metadata": {},
   "source": [
    "## Transactions"
   ]
  },
  {
   "cell_type": "code",
   "execution_count": 5,
   "id": "83df424c",
   "metadata": {},
   "outputs": [
    {
     "name": "stderr",
     "output_type": "stream",
     "text": [
      "/var/folders/wy/19hmjgc57ssck07jnj6pz2x00000gn/T/ipykernel_71752/3737561584.py:11: DataOrientationWarning: Row orientation inferred during DataFrame construction. Explicitly specify the orientation by passing `orient=\"row\"` to silence this warning.\n",
      "  tx_hash_df = pl.DataFrame(tx_hash_list, schema=[\"block_number\", \"transaction_hash\"])\n"
     ]
    }
   ],
   "source": [
    "# Staging\n",
    "tx_hash_list = [\n",
    "    (8240796, \"0x58754de54b8a675f8104d779f277b9aceed4e2622a12a209dfc86f3fe5455910\"),\n",
    "    (6240796,\"0xccea737e45e6acfbee694dd4064333e12d7e187f9f6df3ac3b1b01dff10f56ea\"),\n",
    "    (2240796, \"0x71c1bf18d76816fdc0248481977797377ace5b6e88043f99dff2c4d039bc4e5d\"),\n",
    "    (328397, \"0x683dc6a45623342687c97b83633a286d8c8faff68a30cee5c1131ab89c8e5ee8\"),\n",
    "    (423295, \"0x5519894a9f52f8d1c42ab071fb49c793ffaaf3cb0dd017ac19f2edd96af7b506\")\n",
    "]\n",
    "\n",
    "# write to parquet, transaction_hash as binary\n",
    "tx_hash_df = pl.DataFrame(tx_hash_list, schema=[\"block_number\", \"transaction_hash\"])\n",
    "tx_hash_df = tx_hash_df.with_columns(\n",
    "    pl.col(\"transaction_hash\").str.slice(2).str.decode(\"hex\").alias(\"transaction_hash\")\n",
    ")\n",
    "tx_hash_df.write_parquet(transactions_file, compression=\"snappy\")"
   ]
  },
  {
   "cell_type": "code",
   "execution_count": 6,
   "id": "196eac6f",
   "metadata": {},
   "outputs": [
    {
     "data": {
      "text/html": [
       "<div><style>\n",
       ".dataframe > thead > tr,\n",
       ".dataframe > tbody > tr {\n",
       "  text-align: right;\n",
       "  white-space: pre-wrap;\n",
       "}\n",
       "</style>\n",
       "<small>shape: (5, 2)</small><table border=\"1\" class=\"dataframe\"><thead><tr><th>block_number</th><th>transaction_hash</th></tr><tr><td>i64</td><td>binary</td></tr></thead><tbody><tr><td>8240796</td><td>b&quot;XuM\\xe5K\\x8ag_\\x81\\x04\\xd7y\\xf2w\\xb9\\xac\\xee\\xd4\\xe2b*\\x12\\xa2\\x09\\xdf\\xc8o?\\xe5EY\\x10&quot;</td></tr><tr><td>6240796</td><td>b&quot;\\xcc\\xeas~E\\xe6\\xac\\xfb\\xeeiM\\xd4\\x06C3\\xe1-~\\x18\\x7f\\x9fm\\xf3\\xac;\\x1b\\x01\\xdf\\xf1\\x0fV\\xea&quot;</td></tr><tr><td>2240796</td><td>b&quot;q\\xc1\\xbf\\x18\\xd7h\\x16\\xfd\\xc0$\\x84\\x81\\x97w\\x977z\\xce[n\\x88\\x04?\\x99\\xdf\\xf2\\xc4\\xd09\\xbcN]&quot;</td></tr><tr><td>328397</td><td>b&quot;h=\\xc6\\xa4V#4&amp;\\x87\\xc9{\\x83c:(m\\x8c\\x8f\\xaf\\xf6\\x8a0\\xce\\xe5\\xc1\\x13\\x1a\\xb8\\x9c\\x8e^\\xe8&quot;</td></tr><tr><td>423295</td><td>b&quot;U\\x19\\x89J\\x9fR\\xf8\\xd1\\xc4*\\xb0q\\xfbI\\xc7\\x93\\xff\\xaa\\xf3\\xcb\\x0d\\xd0\\x17\\xac\\x19\\xf2\\xed\\xd9j\\xf7\\xb5\\x06&quot;</td></tr></tbody></table></div>"
      ],
      "text/plain": [
       "shape: (5, 2)\n",
       "┌──────────────┬─────────────────────────────────┐\n",
       "│ block_number ┆ transaction_hash                │\n",
       "│ ---          ┆ ---                             │\n",
       "│ i64          ┆ binary                          │\n",
       "╞══════════════╪═════════════════════════════════╡\n",
       "│ 8240796      ┆ b\"XuM\\xe5K\\x8ag_\\x81\\x04\\xd7y\\… │\n",
       "│ 6240796      ┆ b\"\\xcc\\xeas~E\\xe6\\xac\\xfb\\xeei… │\n",
       "│ 2240796      ┆ b\"q\\xc1\\xbf\\x18\\xd7h\\x16\\xfd\\x… │\n",
       "│ 328397       ┆ b\"h=\\xc6\\xa4V#4&\\x87\\xc9{\\x83c… │\n",
       "│ 423295       ┆ b\"U\\x19\\x89J\\x9fR\\xf8\\xd1\\xc4*… │\n",
       "└──────────────┴─────────────────────────────────┘"
      ]
     },
     "execution_count": 6,
     "metadata": {},
     "output_type": "execute_result"
    }
   ],
   "source": [
    "transactions = pl.read_parquet(transactions_file)\n",
    "transactions.head()"
   ]
  },
  {
   "cell_type": "markdown",
   "id": "de3197b8",
   "metadata": {},
   "source": [
    "## Slots"
   ]
  },
  {
   "cell_type": "code",
   "execution_count": 20,
   "id": "1f2592be",
   "metadata": {},
   "outputs": [],
   "source": [
    "# block_number, contract_address, slot\n",
    "slots = [\n",
    "    (497162,\"0xbe10bc2eDdd50e893805fE377e4d7e04C8b626d7\", \"0x03\"),\n",
    "    (510322, \"0xDf86c10f5bA06C3C7871339C03E881E5cBf0E6B9\", \"0x02\"),\n",
    "    (510286, \"9dcad800ce3b164e9bb9f253b07a2b5bf9507184\", \"0x00\"),\n",
    "]\n",
    "# write to parquet, contract_address and slot as binary\n",
    "slots_df = pl.DataFrame(slots, schema=[\"block_number\", \"contract_address\", \"slot\"], orient=\"row\")\n",
    "slots_df.head()\n",
    "slots_df = slots_df.with_columns(\n",
    "    pl.col(\"contract_address\").str.slice(2).str.decode(\"hex\").alias(\"contract_address\"),\n",
    "    pl.col(\"slot\").str.slice(2).str.decode(\"hex\").alias(\"slot\")\n",
    ")\n",
    "slots_df.write_parquet(slots_file, compression=\"snappy\")"
   ]
  },
  {
   "cell_type": "code",
   "execution_count": 21,
   "id": "b755ca7e",
   "metadata": {},
   "outputs": [
    {
     "data": {
      "text/html": [
       "<div><style>\n",
       ".dataframe > thead > tr,\n",
       ".dataframe > tbody > tr {\n",
       "  text-align: right;\n",
       "  white-space: pre-wrap;\n",
       "}\n",
       "</style>\n",
       "<small>shape: (3, 3)</small><table border=\"1\" class=\"dataframe\"><thead><tr><th>block_number</th><th>contract_address</th><th>slot</th></tr><tr><td>i64</td><td>binary</td><td>binary</td></tr></thead><tbody><tr><td>497162</td><td>b&quot;\\xbe\\x10\\xbc.\\xdd\\xd5\\x0e\\x898\\x05\\xfe7~M~\\x04\\xc8\\xb6&amp;\\xd7&quot;</td><td>b&quot;\\x03&quot;</td></tr><tr><td>510322</td><td>b&quot;\\xdf\\x86\\xc1\\x0f[\\xa0l&lt;xq3\\x9c\\x03\\xe8\\x81\\xe5\\xcb\\xf0\\xe6\\xb9&quot;</td><td>b&quot;\\x02&quot;</td></tr><tr><td>510286</td><td>b&quot;\\xca\\xd8\\x00\\xce;\\x16N\\x9b\\xb9\\xf2S\\xb0z+[\\xf9Pq\\x84&quot;</td><td>b&quot;\\x00&quot;</td></tr></tbody></table></div>"
      ],
      "text/plain": [
       "shape: (3, 3)\n",
       "┌──────────────┬─────────────────────────────────┬─────────┐\n",
       "│ block_number ┆ contract_address                ┆ slot    │\n",
       "│ ---          ┆ ---                             ┆ ---     │\n",
       "│ i64          ┆ binary                          ┆ binary  │\n",
       "╞══════════════╪═════════════════════════════════╪═════════╡\n",
       "│ 497162       ┆ b\"\\xbe\\x10\\xbc.\\xdd\\xd5\\x0e\\x8… ┆ b\"\\x03\" │\n",
       "│ 510322       ┆ b\"\\xdf\\x86\\xc1\\x0f[\\xa0l<xq3\\x… ┆ b\"\\x02\" │\n",
       "│ 510286       ┆ b\"\\xca\\xd8\\x00\\xce;\\x16N\\x9b\\x… ┆ b\"\\x00\" │\n",
       "└──────────────┴─────────────────────────────────┴─────────┘"
      ]
     },
     "execution_count": 21,
     "metadata": {},
     "output_type": "execute_result"
    }
   ],
   "source": [
    "slots = pl.read_parquet(slots_file)\n",
    "slots.head()"
   ]
  },
  {
   "cell_type": "markdown",
   "id": "f0540502",
   "metadata": {},
   "source": [
    "## Contracts"
   ]
  },
  {
   "cell_type": "code",
   "execution_count": 9,
   "id": "d1149698",
   "metadata": {},
   "outputs": [
    {
     "name": "stderr",
     "output_type": "stream",
     "text": [
      "/var/folders/wy/19hmjgc57ssck07jnj6pz2x00000gn/T/ipykernel_71752/2033788865.py:10: DataOrientationWarning: Row orientation inferred during DataFrame construction. Explicitly specify the orientation by passing `orient=\"row\"` to silence this warning.\n",
      "  contracts_df = pl.DataFrame(contracts, schema=[\"block_number\", \"contract_address\"])\n"
     ]
    }
   ],
   "source": [
    "contracts = [\n",
    "    (408537,\"0xcA11bde05977b3631167028862bE2a173976CA11\"),\n",
    "    (8178135, \"0xC6B7946c2B440fca1EE238D95DA7db2874De9C4d\"),\n",
    "    (497162,\"0xbe10bc2eDdd50e893805fE377e4d7e04C8b626d7\"),\n",
    "    (510322, \"0xDf86c10f5bA06C3C7871339C03E881E5cBf0E6B9\"),\n",
    "    (510286, \"9dcad800ce3b164e9bb9f253b07a2b5bf9507184\"),\n",
    "]\n",
    "\n",
    "# write to parquet, contract_address as binary\n",
    "contracts_df = pl.DataFrame(contracts, schema=[\"block_number\", \"contract_address\"])\n",
    "contracts_df = contracts_df.with_columns(\n",
    "    pl.col(\"contract_address\").str.slice(2).str.decode(\"hex\").alias(\"contract_address\")\n",
    ")\n",
    "contracts_df.write_parquet(contracts_file, compression=\"snappy\")"
   ]
  },
  {
   "cell_type": "code",
   "execution_count": 10,
   "id": "e0a6996b",
   "metadata": {},
   "outputs": [
    {
     "data": {
      "text/html": [
       "<div><style>\n",
       ".dataframe > thead > tr,\n",
       ".dataframe > tbody > tr {\n",
       "  text-align: right;\n",
       "  white-space: pre-wrap;\n",
       "}\n",
       "</style>\n",
       "<small>shape: (5, 2)</small><table border=\"1\" class=\"dataframe\"><thead><tr><th>block_number</th><th>contract_address</th></tr><tr><td>i64</td><td>binary</td></tr></thead><tbody><tr><td>408537</td><td>b&quot;\\xca\\x11\\xbd\\xe0Yw\\xb3c\\x11g\\x02\\x88b\\xbe*\\x179v\\xca\\x11&quot;</td></tr><tr><td>8178135</td><td>b&quot;\\xc6\\xb7\\x94l+D\\x0f\\xca\\x1e\\xe28\\xd9]\\xa7\\xdb(t\\xde\\x9cM&quot;</td></tr><tr><td>497162</td><td>b&quot;\\xbe\\x10\\xbc.\\xdd\\xd5\\x0e\\x898\\x05\\xfe7~M~\\x04\\xc8\\xb6&amp;\\xd7&quot;</td></tr><tr><td>510322</td><td>b&quot;\\xdf\\x86\\xc1\\x0f[\\xa0l&lt;xq3\\x9c\\x03\\xe8\\x81\\xe5\\xcb\\xf0\\xe6\\xb9&quot;</td></tr><tr><td>510286</td><td>b&quot;\\xca\\xd8\\x00\\xce;\\x16N\\x9b\\xb9\\xf2S\\xb0z+[\\xf9Pq\\x84&quot;</td></tr></tbody></table></div>"
      ],
      "text/plain": [
       "shape: (5, 2)\n",
       "┌──────────────┬─────────────────────────────────┐\n",
       "│ block_number ┆ contract_address                │\n",
       "│ ---          ┆ ---                             │\n",
       "│ i64          ┆ binary                          │\n",
       "╞══════════════╪═════════════════════════════════╡\n",
       "│ 408537       ┆ b\"\\xca\\x11\\xbd\\xe0Yw\\xb3c\\x11g… │\n",
       "│ 8178135      ┆ b\"\\xc6\\xb7\\x94l+D\\x0f\\xca\\x1e\\… │\n",
       "│ 497162       ┆ b\"\\xbe\\x10\\xbc.\\xdd\\xd5\\x0e\\x8… │\n",
       "│ 510322       ┆ b\"\\xdf\\x86\\xc1\\x0f[\\xa0l<xq3\\x… │\n",
       "│ 510286       ┆ b\"\\xca\\xd8\\x00\\xce;\\x16N\\x9b\\x… │\n",
       "└──────────────┴─────────────────────────────────┘"
      ]
     },
     "execution_count": 10,
     "metadata": {},
     "output_type": "execute_result"
    }
   ],
   "source": [
    "contracts = pl.read_parquet(contracts_file)\n",
    "contracts.head()"
   ]
  }
 ],
 "metadata": {
  "kernelspec": {
   "display_name": "base",
   "language": "python",
   "name": "python3"
  },
  "language_info": {
   "codemirror_mode": {
    "name": "ipython",
    "version": 3
   },
   "file_extension": ".py",
   "mimetype": "text/x-python",
   "name": "python",
   "nbconvert_exporter": "python",
   "pygments_lexer": "ipython3",
   "version": "3.12.7"
  }
 },
 "nbformat": 4,
 "nbformat_minor": 5
}
